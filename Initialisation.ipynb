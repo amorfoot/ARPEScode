{
 "cells": [
  {
   "cell_type": "code",
   "execution_count": 1,
   "id": "d7e5e15f",
   "metadata": {},
   "outputs": [],
   "source": [
    "%matplotlib qt\n",
    "import scipy.constants as const\n",
    "from scipy.optimize import curve_fit\n",
    "from scipy.ndimage import gaussian_filter1d\n",
    "import h5py\n",
    "import os\n",
    "import numpy as np\n",
    "import matplotlib.pyplot as plt\n",
    "import matplotlib\n",
    "\n",
    "from Helpful_functions import *\n",
    "\n",
    "# cwd = os.getcwd()\n",
    "cwd = 'C:\\\\Users\\\\amorf\\\\Documents\\\\Oxford\\\\DiamondLS\\\\Wans_Python_Package'"
   ]
  },
  {
   "cell_type": "code",
   "execution_count": 2,
   "id": "e3145fc9",
   "metadata": {},
   "outputs": [],
   "source": [
    "def fermi_func(x, m, c, e, T, bkg_m, bkg_c):\n",
    "    global resolution\n",
    "    linear = m*x + c\n",
    "    a = const.e/const.k\n",
    "    fermi = 1/(np.exp((x-e)*a/T)+1)\n",
    "    dx = np.mean(x[1:]-x[:-1])\n",
    "    sigma = resolution*1e-3/dx\n",
    "    conv = gaussian_filter1d(fermi*linear, sigma, mode='nearest')\n",
    "    return conv + bkg_m*x + bkg_c\n",
    "\n",
    "def Find_Fermi(X, Y):\n",
    "    global ax\n",
    "    '''X should be in units of eV'''\n",
    "    fig, ax = plt.subplots()\n",
    "    ax.plot(X, Y)\n",
    "    plt.title('select 2 points to form\\linear plot before step')\n",
    "    plt.pause(0.01)\n",
    "    P = np.asarray(plt.ginput(2, timeout=-1))\n",
    "    m = (P[1,1] - P[0,1])/(P[1,0] - P[0,0])\n",
    "    c = P[1,1] - P[1,0]*m\n",
    "    plt.title('select a rough guess of\\nFermi level')\n",
    "    plt.pause(0.01)\n",
    "    P = np.asarray(plt.ginput(1, timeout=-1))\n",
    "    e = P[0,0]\n",
    "    plt.title('select 2 points to form\\linear plot before step')\n",
    "    plt.pause(0.01)\n",
    "    P = np.asarray(plt.ginput(2, timeout=-1))\n",
    "    bkg_m = (P[1,1] - P[0,1])/(P[1,0] - P[0,0])\n",
    "    bkg_c = P[1,1] - P[1,0]*bkg_m\n",
    "    m, c = m - bkg_m, c - bkg_c\n",
    "    plt.pause(0.01)\n",
    "    guess = [m,c,e,10,bkg_m,bkg_c]\n",
    "\n",
    "    ax.plot(X, fermi_func(X, *guess))\n",
    "    plt.title('This is guess')\n",
    "    plt.pause(1)\n",
    "\n",
    "    plt.close()\n",
    "    fig, ax = plt.subplots()\n",
    "    ax.plot(X, Y, c='0')\n",
    "    bounds = ([-np.inf, -np.inf, -np.inf, 0, -np.inf, -np.inf], np.inf)\n",
    "    fermi_popt, pcov = curve_fit(fermi_func, X, Y, p0 = guess, bounds=bounds, maxfev=10000)\n",
    "    fermi_perr = np.sqrt(np.diag(pcov))\n",
    "    ax.plot(X, fermi_func(X,*fermi_popt), color='tab:red')\n",
    "    ax.axvline(fermi_popt[2], color='0', ls='--', lw=0.8)\n",
    "    \n",
    "    m, c, e, T, bkg_m, bkg_c = fermi_popt\n",
    "    fermi_step = fermi_func(X, m, c, e, T, 0, 0)\n",
    "    \n",
    "    F = (max(Y)-min(Y))/max(fermi_step)\n",
    "    C = min(Y)\n",
    "    ax.plot(X, fermi_step*F + C, c='tab:blue', ls='--')\n",
    "    \n",
    "    plt.title('')\n",
    "    plt.pause(0.01)\n",
    "    return fermi_popt, fermi_perr\n",
    "\n",
    "def Gold_plot(X, Y):\n",
    "    global ax, fermi_popt, resolution\n",
    "\n",
    "    fig, ax = plt.subplots()\n",
    "    plt.title('select point2 which we\\'ll fit between')\n",
    "    ax.plot(X, Y)\n",
    "    plt.show()\n",
    "    P = np.asarray(plt.ginput(2, timeout=-1))\n",
    "    x_mask = (P[0,0]<X)&(X<P[1,0])\n",
    "    XX, YY = X[x_mask], Y[x_mask]\n",
    "    plt.close()\n",
    "    \n",
    "    resolution = 2.5\n",
    "    fermi_popt, fermi_perr = Find_Fermi(XX, YY)\n",
    "\n",
    "    Ef_er = fermi_perr[2]\n",
    "    m, c, Ef, T, bkg_m, bkg_c = fermi_popt\n",
    "\n",
    "    '''Coordinates for label'''\n",
    "    text = f'Fermi E = \\n{np.round(Ef, 4)} \\u00B1 {round(Ef_er, 4)}\\nT = {round(T, 1)}\\nsigma={resolution}meV'\n",
    "    ax.set_yticks([])\n",
    "    rel_text(ax, 0.75, 0.75, text, fontsize=15)\n",
    "    plt.pause(0.01)\n",
    "    \n",
    "    return fermi_popt"
   ]
  },
  {
   "cell_type": "markdown",
   "id": "2c591a39",
   "metadata": {},
   "source": [
    "### Load data"
   ]
  },
  {
   "cell_type": "code",
   "execution_count": 3,
   "id": "bf775a7d",
   "metadata": {},
   "outputs": [],
   "source": [
    "file_name = 'i05-157361.nxs'\n",
    "\n",
    "# use os.chdir to go to where the file is stored\n",
    "# os.chdir(directory)\n",
    "\n",
    "with h5py.File(file_name, 'r') as I05:\n",
    "    T = sigfig(np.squeeze(I05['entry1/sample/cryostat_temperature'][:]), 3)\n",
    "    data_2D = np.squeeze(I05['entry1/analyser/data'][:]).T\n",
    "    angles = np.squeeze(I05['entry1/analyser/angles'][:])\n",
    "    energies = np.squeeze(I05['entry1/analyser/energies'][:])\n",
    "    \n",
    "data_2D = dead_pixels(data_2D, 20)"
   ]
  },
  {
   "cell_type": "markdown",
   "id": "3a712a29",
   "metadata": {},
   "source": [
    "### Find the centre and Femi level"
   ]
  },
  {
   "cell_type": "code",
   "execution_count": 4,
   "id": "faeee75c",
   "metadata": {},
   "outputs": [
    {
     "name": "stdout",
     "output_type": "stream",
     "text": [
      "(-0.05698306451612822, 3.709737580645161) (53.494793798701295, 53.565952294372295)\n"
     ]
    }
   ],
   "source": [
    "def myZoom(event):\n",
    "    global fig, ax, xlims, ylims\n",
    "    if event.key == ' ':\n",
    "        xlims = ax.get_xlim()\n",
    "        ylims = ax.get_ylim()\n",
    "        print(xlims, ylims)\n",
    "        plt.close()  # Close the current figure\n",
    "    return xlims, ylims\n",
    "\n",
    "fig, ax = plt.subplots()\n",
    "fig.canvas.mpl_connect('key_press_event', myZoom)\n",
    "\n",
    "ax.contourf(angles, energies, data_2D, 100, cmap='Greys')\n",
    "plt.title('Zoom to the area for integration\\nPress space to finish')\n",
    "plt.show()"
   ]
  },
  {
   "cell_type": "code",
   "execution_count": 5,
   "id": "487964de",
   "metadata": {},
   "outputs": [],
   "source": [
    "x_mask = (xlims[0]<angles)&(angles<xlims[1])\n",
    "y_mask = (ylims[0]<energies)&(energies<ylims[1])\n",
    "\n",
    "X = energies[y_mask]\n",
    "EDC = np.mean(data_2D[y_mask][:,x_mask], axis=1)\n",
    "\n",
    "fermi_popt = Gold_plot(X, EDC)\n",
    "\n",
    "Ef = fermi_popt[2]\n",
    "\n",
    "energies_eV = (energies - Ef)*1000"
   ]
  },
  {
   "cell_type": "code",
   "execution_count": 6,
   "id": "7737dc85",
   "metadata": {},
   "outputs": [],
   "source": [
    "# Can edit these lims if you like\n",
    "xlims = (-7,7)\n",
    "ylims = (-150, 50)\n",
    "\n",
    "x_mask = (xlims[0]<angles)&(angles<xlims[1])\n",
    "y_mask = (ylims[0]<energies_eV)&(energies_eV<ylims[1])\n",
    "\n",
    "X = angles[x_mask]\n",
    "Y = energies_eV[y_mask]\n",
    "Z = data_2D[y_mask][:,x_mask]\n",
    "\n",
    "\n",
    "def myCentering(event):\n",
    "    global ax, offset, X, vl, MDC_l2\n",
    "    offset = event.xdata\n",
    "    \n",
    "    vl.set_xdata(offset)\n",
    "    MDC_l2.set_xdata(2*offset - X)\n",
    "    plt.pause(0.01)\n",
    "\n",
    "# Create MDC\n",
    "MDC_mask = abs(Y)<5\n",
    "MDC = np.mean(Z[MDC_mask], axis=0)\n",
    "MDC = MDC/np.max(MDC) * 45\n",
    "\n",
    "fig, ax = plt.subplots()\n",
    "fig.canvas.mpl_connect('button_press_event', myCentering)\n",
    "\n",
    "ax.contourf(X, Y, Z, 100, cmap='Greys')\n",
    "\n",
    "MDC_l1, = ax.plot(X, MDC, color='tab:blue')\n",
    "MDC_l2, = ax.plot(-X, MDC, color='tab:red')\n",
    "vl = ax.axvline(0, color='0', ls='--')\n",
    "\n",
    "plt.title('Click to move the centering line')\n",
    "plt.show()"
   ]
  },
  {
   "cell_type": "code",
   "execution_count": 7,
   "id": "64a9df3d",
   "metadata": {},
   "outputs": [
    {
     "name": "stdout",
     "output_type": "stream",
     "text": [
      "53.543879763324746\n",
      "-0.832994129032258\n"
     ]
    }
   ],
   "source": [
    "print(Ef)\n",
    "print(offset)"
   ]
  },
  {
   "cell_type": "code",
   "execution_count": null,
   "id": "0d699410",
   "metadata": {},
   "outputs": [],
   "source": []
  }
 ],
 "metadata": {
  "kernelspec": {
   "display_name": "Python 3 (ipykernel)",
   "language": "python",
   "name": "python3"
  },
  "language_info": {
   "codemirror_mode": {
    "name": "ipython",
    "version": 3
   },
   "file_extension": ".py",
   "mimetype": "text/x-python",
   "name": "python",
   "nbconvert_exporter": "python",
   "pygments_lexer": "ipython3",
   "version": "3.9.13"
  }
 },
 "nbformat": 4,
 "nbformat_minor": 5
}
